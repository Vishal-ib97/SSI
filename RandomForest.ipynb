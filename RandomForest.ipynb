{
 "cells": [
  {
   "cell_type": "code",
   "execution_count": 1,
   "metadata": {},
   "outputs": [
    {
     "name": "stdout",
     "output_type": "stream",
     "text": [
      "importing Jupyter notebook from preprocess.ipynb\n",
      "importing Jupyter notebook from model.ipynb\n",
      "importing Jupyter notebook from pred_test.ipynb\n"
     ]
    }
   ],
   "source": [
    "import pandas as pd\n",
    "import numpy as np\n",
    "import matplotlib.pyplot as plt\n",
    "import import_ipynb\n",
    "import preprocess\n",
    "import model\n",
    "import pred_test\n",
    "from scipy.stats import pearsonr\n",
    "import itertools\n",
    "from scipy.stats import pearsonr, spearmanr, ks_2samp\n",
    "from sklearn.feature_selection import chi2\n",
    "from sklearn.model_selection import KFold\n",
    "from statsmodels.stats.outliers_influence import variance_inflation_factor\n",
    "import statsmodels.api as sm\n",
    "import pickle\n",
    "from sklearn.decomposition import PCA\n",
    "import seaborn as sns\n",
    "from sklearn.metrics import roc_curve,auc,confusion_matrix, precision_recall_fscore_support\n",
    "from sklearn.metrics import precision_recall_curve\n",
    "from sklearn.metrics import precision_score, roc_auc_score, recall_score\n",
    "from sklearn.metrics import accuracy_score\n",
    "from imblearn.metrics import specificity_score\n",
    "import matplotlib.pyplot as plt\n",
    "from sklearn.preprocessing import scale\n",
    "from sklearn.metrics import classification_report\n",
    "from sklearn.preprocessing import StandardScaler"
   ]
  },
  {
   "cell_type": "code",
   "execution_count": null,
   "metadata": {},
   "outputs": [],
   "source": [
    "cov_train = pd.read_csv(\"processed_data_2014-18/preprocessed_subgroup_covariate_matrix_strat_folds_with_val/preprocessed_covariate_race_matrix_post_surgery_7_days_train_{}.csv\".format('1225'))\n",
    "cov_test = pd.read_csv(\"processed_data_2014-18/preprocessed_subgroup_covariate_matrix_strat_folds_with_val/preprocessed_covariate_race_matrix_post_surgery_7_days_test_{}.csv\".format('1225'))\n",
    "cov_val = pd.read_csv(\"processed_data_2014-18/preprocessed_subgroup_covariate_matrix_strat_folds_with_val/preprocessed_covariate_race_matrix_post_surgery_7_days_val_{}.csv\".format('1225'))\n",
    "\n",
    "cov_train_final, cov_test_final, cov_val_final = preprocess.preprocess(cov_train, cov_test, cov_val)\n",
    "f = open(r'columns_60', 'rb')\n",
    "fin_cols = pickle.load(f)\n",
    "print(len(fin_cols))\n",
    "cov_train_final = cov_train_final[fin_cols]\n",
    "cov_test_final = cov_test_final[fin_cols]\n",
    "\n",
    "rf, best_params, best_score_train = model.rf_models(cov_train_final, n_boots = 1)\n",
    "roc, ap = [], []\n",
    "for r in rf:\n",
    "    roc_train, roc_test, pr_test, re_test, spec_test, auprc, pr, re, thresh_test, \\\n",
    "    predictions = pred_test.pred_rf_test(r, cov_train_final, cov_test_final, thresh = 0.5)\n",
    "    print(roc_train, roc_test, auprc)\n",
    "    roc.append(roc_test)\n",
    "    ap.append(auprc)\n",
    "print(sum(roc)/len(rf), sum(ap)/len(rf))"
   ]
  },
  {
   "cell_type": "code",
   "execution_count": null,
   "metadata": {},
   "outputs": [],
   "source": [
    "rt, rte, pt, rect, aup , spec = [], [], [], [], [], []\n",
    "for c, i in enumerate([\"1225\", \"5624\", \"992578\", \"3719\", \"6487\", \"295643\", \"73154\", \"2319\", \"334212\", \"12654\"]):\n",
    "    #for i in [\"951\", \"7803\", \"636\", \"3150\", \"3784\"]:\n",
    "    print(i)\n",
    "    \n",
    "    cov_train = pd.read_csv(\"processed_data_2014-18/preprocessed_subgroup_covariate_matrix_strat_folds_with_val/preprocessed_covariate_race_matrix_post_surgery_7_days_train_{}.csv\".format(i))\n",
    "    cov_test = pd.read_csv(\"processed_data_2014-18/preprocessed_subgroup_covariate_matrix_strat_folds_with_val/preprocessed_covariate_race_matrix_post_surgery_7_days_test_{}.csv\".format(i))\n",
    "    cov_val = pd.read_csv(\"processed_data_2014-18/preprocessed_subgroup_covariate_matrix_strat_folds_with_val/preprocessed_covariate_race_matrix_post_surgery_7_days_val_{}.csv\".format(i))\n",
    "\n",
    "    cov_train_final, cov_test_final, cov_val_final = preprocess.preprocess(cov_train, cov_test, cov_val)\n",
    "    \n",
    "    f = open(r'columns_60', 'rb')\n",
    "    fin_cols = pickle.load(f)\n",
    "    cov_train_final = cov_train_final[fin_cols]\n",
    "    cov_test_final = cov_test_final[fin_cols]\n",
    "\n",
    "    rf, best_params, best_score_train = model.rf_models(cov_train_final, 10)\n",
    "    \n",
    "    roc, ap = 0, 0\n",
    "    for r in rf:\n",
    "        roc_train, roc_test, pr_test, re_test, spec_test, auprc, pr, re, thresh_test, \\\n",
    "        predictions = pred_test.pred_rf_test(r, cov_train_final, cov_test_final, thresh = 0.5)\n",
    "        print(roc_test, auprc)\n",
    "        roc += roc_test\n",
    "        ap += auprc\n",
    "        \n",
    "    rte.append(roc/len(rf))\n",
    "    aup.append(ap/len(rf))"
   ]
  },
  {
   "cell_type": "code",
   "execution_count": 15,
   "metadata": {},
   "outputs": [
    {
     "name": "stdout",
     "output_type": "stream",
     "text": [
      "0.8494948155368597 0.0011632379657471586\n",
      "0.15686467866819023 0.001240616496273568\n"
     ]
    }
   ],
   "source": [
    "#mean and confidence interval\n",
    "print(np.mean(rte), (np.std(rte) * 2.262)/(len(rte)**0.5))\n",
    "print(np.mean(aup), (np.std(aup) * 2.262)/(len(aup)**0.5))"
   ]
  },
  {
   "cell_type": "markdown",
   "metadata": {},
   "source": [
    "# **subgroup analysis**"
   ]
  },
  {
   "cell_type": "code",
   "execution_count": 2,
   "metadata": {},
   "outputs": [],
   "source": [
    "cov_train = pd.read_csv(\"processed_data_2014-18/preprocessed_subgroup_covariate_matrix_strat_folds_with_val/preprocessed_covariate_race_matrix_post_surgery_7_days_train_{}.csv\".format('1225'))\n",
    "cov_test = pd.read_csv(\"processed_data_2014-18/preprocessed_subgroup_covariate_matrix_strat_folds_with_val/preprocessed_covariate_race_matrix_post_surgery_7_days_test_{}.csv\".format('1225'))\n",
    "cov_val = pd.read_csv(\"processed_data_2014-18/preprocessed_subgroup_covariate_matrix_strat_folds_with_val/preprocessed_covariate_race_matrix_post_surgery_7_days_val_{}.csv\".format('1225'))\n",
    "\n",
    "cov_train_final, cov_test_final, cov_val_final = preprocess.preprocess(cov_train, cov_test, cov_val)\n",
    "f = open(r'columns_60', 'rb')\n",
    "fin_cols = pickle.load(f)\n",
    "\n",
    "white_male_train = cov_train_final.loc[(cov_train_final['patient_race_white'] == 1)&(cov_train_final['patient_gender_male'] == 1), fin_cols]\n",
    "non_white_male_train = cov_train_final.loc[(cov_train_final['patient_race_white'] == 0)&(cov_train_final['patient_gender_male'] == 1), fin_cols]\n",
    "white_female_train = cov_train_final.loc[(cov_train_final['patient_race_white'] == 1)&(cov_train_final['patient_gender_male'] == 0), fin_cols]\n",
    "non_white_female_train = cov_train_final.loc[(cov_train_final['patient_race_white'] == 0)&(cov_train_final['patient_gender_male'] == 0), fin_cols]\n",
    "sen_data_train = [white_male_train.drop(['patient_gender_male'], axis = 1), non_white_male_train.drop(['patient_gender_male'], axis = 1), \n",
    "            white_female_train.drop(['patient_gender_male'], axis = 1), non_white_female_train.drop(['patient_gender_male'], axis = 1)]\n",
    "\n",
    "white_male = cov_test_final.loc[(cov_test_final['patient_race_white'] == 1)&(cov_test_final['patient_gender_male'] == 1), fin_cols]\n",
    "non_white_male = cov_test_final.loc[(cov_test_final['patient_race_white'] == 0)&(cov_test_final['patient_gender_male'] == 1), fin_cols]\n",
    "white_female = cov_test_final.loc[(cov_test_final['patient_race_white'] == 1)&(cov_test_final['patient_gender_male'] == 0), fin_cols]\n",
    "non_white_female = cov_test_final.loc[(cov_test_final['patient_race_white'] == 0)&(cov_test_final['patient_gender_male'] == 0), fin_cols]\n",
    "sen_data = [white_male.drop(['patient_gender_male'], axis = 1), non_white_male.drop(['patient_gender_male'], axis = 1), \n",
    "            white_female.drop(['patient_gender_male'], axis = 1), non_white_female.drop(['patient_gender_male'], axis = 1)]\n",
    "sen_list = ['white_male', 'non_white_male', 'white_female', 'non_white_female']\n",
    "\n",
    "white_male_val = cov_val_final.loc[(cov_val_final['patient_race_white'] == 1)&(cov_val_final['patient_gender_male'] == 1), fin_cols]\n",
    "non_white_male_val = cov_val_final.loc[(cov_val_final['patient_race_white'] == 0)&(cov_val_final['patient_gender_male'] == 1), fin_cols]\n",
    "white_female_val = cov_val_final.loc[(cov_val_final['patient_race_white'] == 1)&(cov_val_final['patient_gender_male'] == 0), fin_cols]\n",
    "non_white_female_val = cov_val_final.loc[(cov_val_final['patient_race_white'] == 0)&(cov_val_final['patient_gender_male'] == 0), fin_cols]\n",
    "sen_data_val = [white_male_val.drop(['patient_gender_male'], axis = 1), non_white_male_val.drop(['patient_gender_male'], axis = 1), \n",
    "            white_female_val.drop(['patient_gender_male'], axis = 1), non_white_female_val.drop(['patient_gender_male'], axis = 1)]\n",
    "\n",
    "cov_train_final = cov_train_final[fin_cols]\n",
    "cov_test_final = cov_test_final[fin_cols]\n",
    "cov_val_final = cov_val_final[fin_cols]\n",
    "\n",
    "cov_train_final.drop(['patient_gender_male'], axis = 1, inplace = True)\n",
    "cov_test_final.drop(['patient_gender_male'], axis = 1, inplace = True)\n",
    "cov_val_final.drop(['patient_gender_male'], axis = 1, inplace = True)\n",
    "\n",
    "rf, best_params, best_score_train = model.rf_models(cov_train_final)"
   ]
  },
  {
   "cell_type": "code",
   "execution_count": 10,
   "metadata": {},
   "outputs": [
    {
     "name": "stderr",
     "output_type": "stream",
     "text": [
      "/home/vib/.local/share/virtualenvs/vib-GyX7iQ-j/lib/python3.6/site-packages/ipykernel_launcher.py:15: RuntimeWarning: invalid value encountered in true_divide\n",
      "  from ipykernel import kernelapp as app\n"
     ]
    },
    {
     "name": "stdout",
     "output_type": "stream",
     "text": [
      "max f1:  0.31893687707641194 , best_thresh:  0.09699999999999992\n"
     ]
    },
    {
     "name": "stderr",
     "output_type": "stream",
     "text": [
      "/home/vib/.local/share/virtualenvs/vib-GyX7iQ-j/lib/python3.6/site-packages/ipykernel_launcher.py:18: RuntimeWarning: invalid value encountered in double_scalars\n",
      "/home/vib/.local/share/virtualenvs/vib-GyX7iQ-j/lib/python3.6/site-packages/ipykernel_launcher.py:15: RuntimeWarning: invalid value encountered in true_divide\n",
      "  from ipykernel import kernelapp as app\n"
     ]
    },
    {
     "name": "stdout",
     "output_type": "stream",
     "text": [
      "max f1:  0.233502538071066 , best_thresh:  0.1109999999999999\n"
     ]
    },
    {
     "name": "stderr",
     "output_type": "stream",
     "text": [
      "/home/vib/.local/share/virtualenvs/vib-GyX7iQ-j/lib/python3.6/site-packages/ipykernel_launcher.py:18: RuntimeWarning: invalid value encountered in double_scalars\n",
      "/home/vib/.local/share/virtualenvs/vib-GyX7iQ-j/lib/python3.6/site-packages/ipykernel_launcher.py:15: RuntimeWarning: invalid value encountered in true_divide\n",
      "  from ipykernel import kernelapp as app\n"
     ]
    },
    {
     "name": "stdout",
     "output_type": "stream",
     "text": [
      "max f1:  0.1911262798634812 , best_thresh:  0.09699999999999992\n"
     ]
    },
    {
     "name": "stderr",
     "output_type": "stream",
     "text": [
      "/home/vib/.local/share/virtualenvs/vib-GyX7iQ-j/lib/python3.6/site-packages/ipykernel_launcher.py:15: RuntimeWarning: invalid value encountered in true_divide\n",
      "  from ipykernel import kernelapp as app\n"
     ]
    },
    {
     "name": "stdout",
     "output_type": "stream",
     "text": [
      "max f1:  0.2745098039215686 , best_thresh:  0.10299999999999991\n"
     ]
    }
   ],
   "source": [
    "for i, race_data in enumerate(sen_data):\n",
    "    p_test = rf.predict_proba(race_data.drop(['ssi'], axis = 1))[:,1]\n",
    "\n",
    "    max_val = 0\n",
    "    for thresh in np.arange(0.01, 0.9, 0.001):\n",
    "        temp_pred = p_test.copy()\n",
    "        temp_pred[temp_pred >= thresh] = 1\n",
    "        temp_pred[temp_pred < thresh] = 0\n",
    "        conf_matrix = confusion_matrix(race_data['ssi'], temp_pred)\n",
    "        TP = conf_matrix[1][1]\n",
    "        TN = conf_matrix[0][0]\n",
    "        FP = conf_matrix[0][1]\n",
    "        FN = conf_matrix[1][0]\n",
    "        spec = (TN / float(TN + FP))\n",
    "        prec = (TP / float(TP + FP))\n",
    "        rec = (TP / float(TP + FN))\n",
    "\n",
    "        f1 = (2*prec*rec)/(prec + rec)\n",
    "\n",
    "        if f1 > max_val:\n",
    "            max_val = f1\n",
    "            best_thresh = thresh\n",
    "    print(\"max f1: \", max_val, \", best_thresh: \", best_thresh)"
   ]
  },
  {
   "cell_type": "code",
   "execution_count": 9,
   "metadata": {},
   "outputs": [
    {
     "name": "stderr",
     "output_type": "stream",
     "text": [
      "/home/vib/.local/share/virtualenvs/vib-GyX7iQ-j/lib/python3.6/site-packages/ipykernel_launcher.py:16: RuntimeWarning: invalid value encountered in true_divide\n",
      "  app.launch_new_instance()\n"
     ]
    },
    {
     "name": "stdout",
     "output_type": "stream",
     "text": [
      "max f1:  nan , best_thresh:  0.054999999999999966\n"
     ]
    },
    {
     "name": "stderr",
     "output_type": "stream",
     "text": [
      "/home/vib/.local/share/virtualenvs/vib-GyX7iQ-j/lib/python3.6/site-packages/ipykernel_launcher.py:16: RuntimeWarning: invalid value encountered in true_divide\n",
      "  app.launch_new_instance()\n"
     ]
    },
    {
     "name": "stdout",
     "output_type": "stream",
     "text": [
      "max f1:  nan , best_thresh:  0.054999999999999966\n"
     ]
    },
    {
     "name": "stderr",
     "output_type": "stream",
     "text": [
      "/home/vib/.local/share/virtualenvs/vib-GyX7iQ-j/lib/python3.6/site-packages/ipykernel_launcher.py:16: RuntimeWarning: invalid value encountered in true_divide\n",
      "  app.launch_new_instance()\n"
     ]
    },
    {
     "name": "stdout",
     "output_type": "stream",
     "text": [
      "max f1:  nan , best_thresh:  0.054999999999999966\n",
      "max f1:  nan , best_thresh:  0.054999999999999966\n"
     ]
    },
    {
     "name": "stderr",
     "output_type": "stream",
     "text": [
      "/home/vib/.local/share/virtualenvs/vib-GyX7iQ-j/lib/python3.6/site-packages/ipykernel_launcher.py:16: RuntimeWarning: invalid value encountered in true_divide\n",
      "  app.launch_new_instance()\n"
     ]
    }
   ],
   "source": [
    "thresh = [0.1269999999999999, 0.08699999999999992, 0.10299999999999991, 0.054999999999999966]\n",
    "for i, race_data in enumerate(sen_data):\n",
    "    p_test = rf.predict_proba(race_data.drop(['ssi'], axis = 1))[:,1]\n",
    "\n",
    "    max_val = 0\n",
    "    \n",
    "    temp_pred = p_test.copy()\n",
    "    temp_pred[temp_pred >= 0.5] = 1\n",
    "    temp_pred[temp_pred < 0.5] = 0\n",
    "    conf_matrix = confusion_matrix(race_data['ssi'], temp_pred)\n",
    "    TP = conf_matrix[1][1]\n",
    "    TN = conf_matrix[0][0]\n",
    "    FP = conf_matrix[0][1]\n",
    "    FN = conf_matrix[1][0]\n",
    "    spec = (TN / float(TN + FP))\n",
    "    prec = (TP / float(TP + FP))\n",
    "    rec = (TP / float(TP + FN))\n",
    "\n",
    "    f1 = (2*prec*rec)/(prec + rec)\n",
    "    print(\"max f1: \", f1, \", best_thresh: \", best_thresh)"
   ]
  },
  {
   "cell_type": "markdown",
   "metadata": {},
   "source": [
    "# **Race analysis**"
   ]
  },
  {
   "cell_type": "code",
   "execution_count": null,
   "metadata": {},
   "outputs": [],
   "source": [
    "res = pd.DataFrame()\n",
    "race_list = ['patient_race_american_indian_or_alaska_native',\n",
    " 'patient_race_asian',\n",
    " 'patient_race_hispanic',\n",
    " 'patient_race_native_hawaiian_or_other_pacific_islander',\n",
    " 'patient_race_other',\n",
    " 'patient_race_white',\n",
    " 'patient_race_african_american_or_black']\n",
    "\n",
    "f = open(r'columns_60', 'rb')\n",
    "fin_cols = pickle.load(f)\n",
    "\n",
    "for c, i in enumerate([\"1225\", \"5624\", \"992578\", \"3719\", \"6487\", \"295643\", \"73154\", \"2319\", \"334212\", \"12654\"]):\n",
    "    print(i)\n",
    "    cov_train = pd.read_csv(\"processed_data_2014-18/preprocessed_subgroup_covariate_matrix_strat_folds/preprocessed_race_covariate_matrix/preprocessed_covariate_race_matrix_post_surgery_7_days_train_{}.csv\".format(i))\n",
    "    cov_test = pd.read_csv(\"processed_data_2014-18/preprocessed_subgroup_covariate_matrix_strat_folds/preprocessed_race_covariate_matrix/preprocessed_covariate_race_matrix_post_surgery_7_days_test_{}.csv\".format(i))\n",
    "    cov_train_final, _ = preprocess.preprocess(cov_train, cov_test)\n",
    "    \n",
    "    cov_train_final = cov_train_final[fin_cols]\n",
    "    \n",
    "    rf, best_params, best_score_train = model.rf_models(cov_train_final)\n",
    "    rt, rte, pt, rect, ap , spec = [], [], [], [], [], []\n",
    "    plt.figure(figsize = [10, 10])\n",
    "    for r, race in enumerate(race_list):\n",
    "        \n",
    "        print(race[13:])\n",
    "        _, cov_test_final = preprocess.preprocess(cov_train, cov_test, race = race)\n",
    "        cov_test_final = cov_test_final[fin_cols]\n",
    "        \n",
    "        plt.subplot(2, 4, r+1)\n",
    "        roc_train, roc_test, pr_test, re_test, spec_test, auprc, pr, re, thresh_test, \\\n",
    "        predictions = pred_test.pred_rf_test(rf, cov_train_final, cov_test_final, thresh = 0.08, race = race)\n",
    "        \n",
    "        rt.append(roc_train)\n",
    "        rte.append(roc_test)\n",
    "        pt.append(pr_test)\n",
    "        rect.append(re_test)\n",
    "        spec.append(spec_test)\n",
    "        ap.append(auprc)\n",
    "        \n",
    "    #plt.savefig(race + \"_new_feat_4_rf.jpg\")    \n",
    "    met = [\"Recall\", \"Precision\", \"Specificity\", \"ROC\", \"Auprc\"]\n",
    "    index = [x + y for x in met for y in race_list]\n",
    "    \n",
    "    split = rect + pt + spec + rte + ap\n",
    "    arr = np.array(split)\n",
    "    arr = np.around(arr, decimals = 2)\n",
    "    res[\"split_\" + str(c)] = pd.Series(arr, index = index)\n",
    "    res.to_csv(\"races_rf_curr_weights_metrics.csv\")\n"
   ]
  },
  {
   "cell_type": "code",
   "execution_count": null,
   "metadata": {},
   "outputs": [],
   "source": [
    "def CI(x):\n",
    "    arr = df.iloc[x, :-1].values\n",
    "    ci = np.round((np.std(arr) * 2.262)/(len(arr)**0.5), 3)\n",
    "    m = np.round(np.mean(arr), 3)\n",
    "    return str(m) + '±' + str(ci)\n",
    "\n",
    "df = pd.read_csv('races_rf_curr_weights_metrics.csv')\n",
    "df.drop(['Unnamed: 0'], axis = 1, inplace = True)\n",
    "df['CI'] = np.arange(len(df))\n",
    "df['CI'] = df.CI.apply(lambda x: CI(x))\n",
    "df"
   ]
  }
 ],
 "metadata": {
  "kernelspec": {
   "display_name": "Python 3",
   "language": "python",
   "name": "python3"
  },
  "language_info": {
   "codemirror_mode": {
    "name": "ipython",
    "version": 3
   },
   "file_extension": ".py",
   "mimetype": "text/x-python",
   "name": "python",
   "nbconvert_exporter": "python",
   "pygments_lexer": "ipython3",
   "version": "3.6.9"
  }
 },
 "nbformat": 4,
 "nbformat_minor": 4
}
