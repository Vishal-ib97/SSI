{
 "cells": [
  {
   "cell_type": "code",
   "execution_count": 2,
   "metadata": {},
   "outputs": [
    {
     "name": "stdout",
     "output_type": "stream",
     "text": [
      "importing Jupyter notebook from preprocess.ipynb\n"
     ]
    }
   ],
   "source": [
    "import pandas as pd\n",
    "import numpy as np\n",
    "import matplotlib.pyplot as plt\n",
    "import import_ipynb\n",
    "import preprocess\n",
    "from scipy.stats import pearsonr, spearmanr, ks_2samp\n",
    "from statsmodels.stats.outliers_influence import variance_inflation_factor\n",
    "import statsmodels.api as sm\n",
    "from sklearn.feature_selection import chi2\n",
    "from sklearn.model_selection import KFold"
   ]
  },
  {
   "cell_type": "code",
   "execution_count": 3,
   "metadata": {},
   "outputs": [],
   "source": [
    "#ks and chi-squared test\n",
    "def test(mat):\n",
    "     #KS test\n",
    "    #null hypothesis: two variables are from the same distribution\n",
    "    cat_cols = []\n",
    "    num_cols = []\n",
    "    for i in mat.columns:\n",
    "        if mat[i].nunique() <= 2:\n",
    "            cat_cols.append(i)\n",
    "        else:\n",
    "            num_cols.append(i)\n",
    "    num_cols = set(num_cols)\n",
    "    num_cols.add('ssi')\n",
    "\n",
    "    df = mat[num_cols]\n",
    "    ks = {}\n",
    "    for i in df.columns:\n",
    "        if i != \"ssi\":\n",
    "            ks[i] = ks_2samp(df.loc[df.ssi==1, i], df.loc[df.ssi==0, i])[1]\n",
    "            #ks.append((i, ks_2samp(df.loc[df.ssi==1, i], df.loc[df.ssi==0, i])[1]))\n",
    "    ks_sel = ks.items()\n",
    "    ks_sel = [i[0] for i in ks_sel if i[1] <= 0.02]  #selecting variables rejecting null hypothesis\n",
    "    \n",
    "    #chi squared test\n",
    "    # null hypothesis: two variables are independent\n",
    "    df = mat[cat_cols]\n",
    "    chi_scores = chi2(df.drop(['ssi'], axis = 1),df['ssi'])\n",
    "\n",
    "    chic = pd.Series(chi_scores[1], index = df.drop(['ssi'], axis = 1).columns).sort_values(axis = 0)\n",
    "    chi_cols = chic[chic < 0.02].index   #selecting variables rejecting null hypothesis \n",
    "\n",
    "    cols = set(ks_sel) | set(chi_cols)\n",
    "    cols.add(\"ssi\")\n",
    "    \n",
    "    return cols\n",
    "\n",
    "#ks test    \n",
    "def test2(df):\n",
    "    ks = {}\n",
    "    for i in df.columns:\n",
    "        if i != \"ssi\":\n",
    "            ks[i] = ks_2samp(df.loc[df.ssi==1, i], df.loc[df.ssi==0, i])[1]\n",
    "            #ks.append((i, ks_2samp(df.loc[df.ssi==1, i], df.loc[df.ssi==0, i])[1]))\n",
    "    ks_sel = ks.items()\n",
    "    ks_sel = [i[0] for i in ks_sel if i[1] <= 0.05]  #selecting variables rejecting null hypothesis\n",
    "    cols = set(ks_sel)\n",
    "    cols.add(\"ssi\")\n",
    "    return cols\n",
    "\n",
    "#checking correlation\n",
    "def get_cor_feat(cor):    \n",
    "    feats = cor.index\n",
    "    cor_thresh = 0.3\n",
    "    flag = [True]*len(cor.index)\n",
    "\n",
    "    for i in range(len(cor.index)):\n",
    "        if flag[i] != True:\n",
    "            continue\n",
    "        for j in range(i+1, len(cor.index)):\n",
    "            if flag[i] != True:\n",
    "                break\n",
    "            if flag[j] != True:\n",
    "                continue\n",
    "            if feats[i] != \"ssi\" and feats[j] != \"ssi\" and i != j:\n",
    "                #if the correlation b/w 2 features is greater than threshold, reject the one \n",
    "                #that is less correlated with the target\n",
    "                if abs(cor.iloc[i, j]) > cor_thresh:\n",
    "                    if abs(cor.loc[feats[i], \"ssi\"]) > abs(cor.loc[feats[j], \"ssi\"]):\n",
    "                        flag[j] = False\n",
    "                    else:\n",
    "                        flag[i] = False\n",
    "    cor2 = cor.columns[flag]\n",
    "    return cor2"
   ]
  },
  {
   "cell_type": "code",
   "execution_count": 6,
   "metadata": {},
   "outputs": [],
   "source": [
    "def get_fin_cols(cov):\n",
    "    #cols = test(cov)\n",
    "    cols = test2(cov)\n",
    "\n",
    "    cor = cov[cols].corr()\n",
    "\n",
    "    cor_feats = get_cor_feat(cor)\n",
    "\n",
    "    cor.reset_index(inplace = True)\n",
    "#     cor.drop(['level_0'], axis = 1, inplace = True)\n",
    "\n",
    "    #VIF\n",
    "    cov = cov[cor_feats]    \n",
    "    df = sm.add_constant(cov)\n",
    "    #rm = ['vitals_pulse_diff', 'vitals_temp_diff', 'index']\n",
    "    rm = []\n",
    "    df.drop(rm, axis = 1, inplace = True)\n",
    "    vif_df = [[df.columns[i], variance_inflation_factor(df.values, i)] for i in range(df.shape[1])]\n",
    "\n",
    "    '''vifs = []\n",
    "    ssi_index = list(cor.columns).index(\"ssi\")\n",
    "    for i in vif_df:\n",
    "        if i[1] > 5 and i[0] != 'const':\n",
    "            vifs.append(i + [abs(cor.loc[ssi_index, i[0]])])\n",
    "\n",
    "    print(pd.DataFrame(vifs, columns = [\"col\", \"vif\", \"cor\"]))'''\n",
    "\n",
    "    fin_cols = set()\n",
    "    for c in vif_df:\n",
    "        if c[0] != \"const\" and c[0] != \"index\":\n",
    "            fin_cols.add(c[0])\n",
    "\n",
    "    return fin_cols"
   ]
  },
  {
   "cell_type": "code",
   "execution_count": 7,
   "metadata": {},
   "outputs": [],
   "source": [
    "cov_train, cov_test, cov_val = #load from file\n",
    "\n",
    "cov_train_final, cov_test_final, cov_val_final = preprocess.preprocess(cov_train, cov_test, cov_val)\n",
    "\n",
    "fin_cols = get_fin_cols(cov_train_final)\n",
    "cov_train_final[fin_cols].to_csv(\"selected_columnsks_ks_0.02_chi_0.02_cor_0.3.csv\")"
   ]
  },
  {
   "cell_type": "code",
   "execution_count": null,
   "metadata": {},
   "outputs": [],
   "source": [
    "len(fin_cols)"
   ]
  }
 ],
 "metadata": {
  "kernelspec": {
   "display_name": "Python 3",
   "language": "python",
   "name": "python3"
  },
  "language_info": {
   "codemirror_mode": {
    "name": "ipython",
    "version": 3
   },
   "file_extension": ".py",
   "mimetype": "text/x-python",
   "name": "python",
   "nbconvert_exporter": "python",
   "pygments_lexer": "ipython3",
   "version": "3.6.9"
  }
 },
 "nbformat": 4,
 "nbformat_minor": 4
}
